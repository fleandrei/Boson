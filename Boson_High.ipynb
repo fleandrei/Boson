{
 "cells": [
  {
   "cell_type": "code",
   "execution_count": 1,
   "metadata": {},
   "outputs": [],
   "source": [
    "import random,string,math,csv\n",
    "import numpy as np\n",
    "import matplotlib.pyplot as plt\n",
    "\n"
   ]
  },
  {
   "cell_type": "code",
   "execution_count": 2,
   "metadata": {},
   "outputs": [],
   "source": [
    "all = list(csv.reader(open(\"atlas-higgs-challenge-2014-v2.csv\",\"r\"), delimiter=','))\n"
   ]
  },
  {
   "cell_type": "code",
   "execution_count": 3,
   "metadata": {},
   "outputs": [
    {
     "name": "stdout",
     "output_type": "stream",
     "text": [
      "['100000', '138.47', '51.655', '97.827', '27.98', '0.91', '124.711', '2.666', '3.064', '41.928', '197.76', '1.582', '1.396', '0.2', '32.638', '1.017', '0.381', '51.626', '2.273', '-2.414', '16.824', '-0.277', '258.733', '2', '67.435', '2.15', '0.444', '46.062', '1.24', '-2.475', '113.497', '0.00081448039868', 's', 't', '0.00265331133733']\n",
      "[ 1.38470e+02  5.16550e+01  9.78270e+01  2.79800e+01  9.10000e-01\n",
      "  1.24711e+02  2.66600e+00  3.06400e+00  4.19280e+01  1.97760e+02\n",
      "  1.58200e+00  1.39600e+00  2.00000e-01  3.26380e+01  1.01700e+00\n",
      "  3.81000e-01  5.16260e+01  2.27300e+00 -2.41400e+00  1.68240e+01\n",
      " -2.77000e-01  2.58733e+02  2.00000e+00  6.74350e+01  2.15000e+00\n",
      "  4.44000e-01  4.60620e+01  1.24000e+00 -2.47500e+00  1.13497e+02]\n",
      "30\n"
     ]
    }
   ],
   "source": [
    "print(all[1])\n",
    "\n",
    "#xs = np.array([list(map(float, row[1:-2])) for row in all[1:]])\n",
    "xs = np.array([list(map(float, row[1:-4])) for row in all[1:]])\n",
    "print(xs[0])\n",
    "(numPoints,numFeatures) = xs.shape\n",
    "\n",
    "print(numFeatures)\n"
   ]
  },
  {
   "cell_type": "code",
   "execution_count": 4,
   "metadata": {},
   "outputs": [],
   "source": [
    "\n",
    "#Perturbation légère\n",
    "xs = np.add(xs, np.random.normal(0.0, 0.0001, xs.shape))\n",
    "\n",
    "\n",
    "sSelector = np.array([row[-3] == 's' for row in all[1:]])\n",
    "bSelector = np.array([row[-3] == 'b' for row in all[1:]])\n",
    "#print(sSelector)\n",
    "\n",
    "\n",
    "weights = np.array([float(row[-4]) for row in all[1:]])\n",
    "sumWeights = np.sum(weights)\n",
    "sumSWeights = np.sum(weights[sSelector])\n",
    "sumBWeights = np.sum(weights[bSelector])\n",
    "\n",
    "#print(weights)\n",
    "\n"
   ]
  },
  {
   "cell_type": "code",
   "execution_count": 5,
   "metadata": {},
   "outputs": [
    {
     "name": "stdout",
     "output_type": "stream",
     "text": [
      "81824\n",
      "163648\n",
      "81824\n"
     ]
    }
   ],
   "source": [
    "randomPermutation = random.sample(range(numPoints), numPoints)\n",
    "numPointsTrain = int(numPoints*0.8)\n",
    "numPointsRest = numPoints - numPointsTrain\n",
    "numPointsValidation= int(numPointsRest*0.5)\n",
    "numPointstest= numPointsRest - numPointsValidation\n",
    "\n",
    "xsTrain = xs[randomPermutation[:numPointsTrain]]\n",
    "xsValidation = xs[randomPermutation[numPointsTrain:numPointsTrain + numPointsValidation]]\n",
    "\n",
    "print(numPointsValidation)\n",
    "print(numPointsRest)\n",
    "print(numPointstest)\n",
    "sSelectorTrain = sSelector[randomPermutation[:numPointsTrain]]\n",
    "bSelectorTrain = bSelector[randomPermutation[:numPointsTrain]]\n",
    "sSelectorValidation = sSelector[randomPermutation[numPointsTrain:numPointsValidation+numPointsTrain]]\n",
    "bSelectorValidation = bSelector[randomPermutation[numPointsTrain:numPointsValidation+numPointsTrain]]\n",
    "\n",
    "weightsTrain = weights[randomPermutation[:numPointsTrain]]\n",
    "weightsValidation = weights[randomPermutation[numPointsTrain:numPointsValidation+numPointsTrain]]\n",
    "\n",
    "sumWeightsTrain = np.sum(weightsTrain)\n",
    "sumSWeightsTrain = np.sum(weightsTrain[sSelectorTrain])\n",
    "sumBWeightsTrain = np.sum(weightsTrain[bSelectorTrain])"
   ]
  },
  {
   "cell_type": "code",
   "execution_count": 6,
   "metadata": {},
   "outputs": [],
   "source": [
    "xsTrainTranspose = xsTrain.transpose()\n"
   ]
  },
  {
   "cell_type": "code",
   "execution_count": 7,
   "metadata": {},
   "outputs": [
    {
     "name": "stdout",
     "output_type": "stream",
     "text": [
      "[5.17211461e-06]\n"
     ]
    }
   ],
   "source": [
    "\n",
    "\n",
    "weightsBalancedTrain = np.array([0.5 * weightsTrain[i]/sumSWeightsTrain\n",
    "                                 if sSelectorTrain[i]\n",
    "                                 else 0.5 * weightsTrain[i]/sumBWeightsTrain\\\n",
    "                                 for i in range(numPointsTrain)])\n",
    "\n",
    "\n",
    "print(weightsBalancedTrain[1][True])\n"
   ]
  },
  {
   "cell_type": "code",
   "execution_count": 8,
   "metadata": {},
   "outputs": [
    {
     "name": "stdout",
     "output_type": "stream",
     "text": [
      "[     0  65459 130918 196377 261836 327295 392754 458213 523672 589131\n",
      " 654590]\n",
      "[ 88357 247428 318244 ... 313492 189378 480114]\n"
     ]
    }
   ],
   "source": [
    "numBins = 10\n",
    "\n",
    "\n",
    "\n",
    "logPs = np.empty([numFeatures, numBins])\n",
    "binMaxs = np.empty([numFeatures, numBins])#Contient la valeur max d'une feature Fi des samples contenu dans chaque bin \n",
    "binIndexes = np.array(range(0, numPointsTrain+1, int(numPointsTrain/numBins)))\n",
    "\n",
    "print(binIndexes)\n",
    "print(xsTrainTranspose[7].argsort())"
   ]
  },
  {
   "cell_type": "code",
   "execution_count": 9,
   "metadata": {},
   "outputs": [],
   "source": [
    "\n",
    "\n",
    "for fI in range(numFeatures):\n",
    "    # index permutation of sorted feature column\n",
    "    indexes = xsTrainTranspose[fI].argsort() #Returns the indices that would sort this array.\n",
    "\n",
    "    for bI in range(numBins):\n",
    "        # upper bin limits\n",
    "        binMaxs[fI, bI] = xsTrainTranspose[fI, indexes[binIndexes[bI+1]-1]]\n",
    "        # training indices of points in a bin\n",
    "        indexesInBin = indexes[binIndexes[bI]:binIndexes[bI+1]]\n",
    "        # sum of signal weights in bin\n",
    "        wS = np.sum(weightsBalancedTrain[indexesInBin]\n",
    "                    [sSelectorTrain[indexesInBin]])\n",
    "        # sum of background weights in bin\n",
    "        wB = np.sum(weightsBalancedTrain[indexesInBin]\n",
    "                    [bSelectorTrain[indexesInBin]])\n",
    "        # log probability of being a signal in the bin\n",
    "        logPs[fI, bI] = math.log(wS/(wS+wB))\n",
    "\n"
   ]
  },
  {
   "cell_type": "code",
   "execution_count": 10,
   "metadata": {},
   "outputs": [],
   "source": [
    "\n",
    "\n",
    "def score(x):\n",
    "    logP = 0\n",
    "    for fI in range(numFeatures):\n",
    "        bI = 0\n",
    "        # linear search for the bin index of the fIth feature\n",
    "        # of the signal\n",
    "        while bI < len(binMaxs[fI]) - 1 and x[fI] > binMaxs[fI, bI]:\n",
    "            bI += 1\n",
    "        logP += logPs[fI, bI] - math.log(0.5)\n",
    "    return logP\n",
    "\n",
    "\n",
    "\n",
    "def AMS(s,b):\n",
    "    assert s >= 0\n",
    "    assert b >= 0\n",
    "    bReg = 10.\n",
    "    return math.sqrt(2 * ((s + b + bReg) * \n",
    "                          math.log(1 + s / (b + bReg)) - s))\n",
    "\n"
   ]
  },
  {
   "cell_type": "code",
   "execution_count": 11,
   "metadata": {},
   "outputs": [],
   "source": [
    "\n",
    "\n",
    "validationScores = np.array([score(x) for x in xsValidation])\n",
    "\n"
   ]
  },
  {
   "cell_type": "code",
   "execution_count": 12,
   "metadata": {},
   "outputs": [],
   "source": [
    "tIIs = validationScores.argsort() #Sorting the indices in increasing order of the scores.\n",
    "wFactor = 1.* (numPoints-numPointstest) / numPointsValidation\n",
    "\n",
    "s = np.sum(weightsValidation[sSelectorValidation])\n",
    "b = np.sum(weightsValidation[bSelectorValidation])\n"
   ]
  },
  {
   "cell_type": "code",
   "execution_count": 13,
   "metadata": {},
   "outputs": [],
   "source": [
    "amss = np.empty([len(tIIs)])\n",
    "\n",
    "amsMax = 0\n",
    "threshold = 0.0\n",
    "\n",
    "\n",
    "for tI in range(len(tIIs)):\n",
    "    # don't forget to renormalize the weights to the same sum \n",
    "    # as in the complete training set\n",
    "    amss[tI] = AMS(max(0,s * wFactor),max(0,b * wFactor))\n",
    "    if amss[tI] > amsMax:\n",
    "        amsMax = amss[tI]\n",
    "        threshold = validationScores[tIIs[tI]]\n",
    "        #print tI,threshold\n",
    "    if sSelectorValidation[tIIs[tI]]:\n",
    "        s -= weightsValidation[tIIs[tI]]\n",
    "    else:\n",
    "        b -= weightsValidation[tIIs[tI]]\n",
    "\n"
   ]
  },
  {
   "cell_type": "code",
   "execution_count": 14,
   "metadata": {},
   "outputs": [
    {
     "name": "stdout",
     "output_type": "stream",
     "text": [
      "[1.03437319 1.03439136 1.03441053 ... 0.00393766 0.00262529 0.00131274]\n"
     ]
    },
    {
     "data": {
      "text/plain": [
       "[<matplotlib.lines.Line2D at 0x7f1de5ad3898>]"
      ]
     },
     "execution_count": 14,
     "metadata": {},
     "output_type": "execute_result"
    },
    {
     "data": {
      "image/png": "[encoded data removed]",
      "text/plain": [
       "<Figure size 432x288 with 1 Axes>"
      ]
     },
     "metadata": {
      "needs_background": "light"
     },
     "output_type": "display_data"
    }
   ],
   "source": [
    "print(amss)\n",
    "\n",
    "plt.plot(amss)\n",
    "\n"
   ]
  },
  {
   "cell_type": "code",
   "execution_count": 15,
   "metadata": {},
   "outputs": [
    {
     "name": "stdout",
     "output_type": "stream",
     "text": [
      "1.989990032081409\n",
      "-0.04848652128776898\n",
      "-0.3588198200627586\n"
     ]
    }
   ],
   "source": [
    "print(amsMax)\n",
    "print(threshold)\n",
    "print(validationScores[tIIs[39900]])"
   ]
  },
  {
   "cell_type": "code",
   "execution_count": 16,
   "metadata": {},
   "outputs": [],
   "source": [
    "xsTest=xs[randomPermutation[numPointsTrain + numPointsValidation:numPointsTrain + numPointsValidation+numPointstest]]\n",
    "\n",
    "testScores = np.array([score(x) for x in xsTest])\n",
    "\n",
    "testInversePermutation = testScores.argsort()\n",
    "\n",
    "sSelectorTest=sSelector[randomPermutation[numPointsValidation+numPointsTrain:numPointsValidation+numPointsTrain+numPointstest]]\n",
    "bSelectorTest=bSelector[randomPermutation[numPointsValidation+numPointsTrain:numPointsValidation+numPointsTrain+numPointstest]]"
   ]
  },
  {
   "cell_type": "code",
   "execution_count": 17,
   "metadata": {},
   "outputs": [],
   "source": [
    "testPermutation = list(testInversePermutation)\n",
    "#print(testPermutation)\n",
    "for tI,tII in zip(range(len(testInversePermutation)),\n",
    "                  testInversePermutation):\n",
    "    testPermutation[tII] = tI\n"
   ]
  },
  {
   "cell_type": "code",
   "execution_count": 18,
   "metadata": {},
   "outputs": [
    {
     "name": "stdout",
     "output_type": "stream",
     "text": [
      "['b', 's', 'b', 's', 's', 'b', 'b', 's', 's', 's', 's', 'b', 's', 's', 'b', 'b', 'b', 's', 'b', 's', 'b', 'b', 's', 's', 'b', 's', 'b', 'b', 's']\n",
      "[False, True, False, False, True, True, False, True, True, True, False, False, True, True, False, True, False, True, False, True, False, False, True, True, False, True, False, False, True]\n",
      "0.6588486775016457\n",
      "0.5656723175210021\n"
     ]
    }
   ],
   "source": [
    "weightsTest = weights[randomPermutation[numPointsValidation+numPointsTrain:numPointsValidation+numPointsTrain+numPointstest]]\n",
    "\n",
    "prediction=np.empty([len(testScores)], dtype=str)\n",
    "\n",
    "S=0 #TP non normalisé\n",
    "B=0 #FP non normalisé\n",
    "\n",
    "TP=0\n",
    "FP=0\n",
    "\n",
    "for tI in range(len(testScores)):\n",
    "    if testScores[tI] >= threshold:\n",
    "        prediction[tI]='s'\n",
    "        if sSelectorTest[tI]:\n",
    "            S += weightsTest[tI]\n",
    "            TP+=1\n",
    "        else:\n",
    "            B += weightsTest[tI]\n",
    "            FP+=1\n",
    "    else:\n",
    "        prediction[tI]='b'\n",
    "        \n",
    "#prediction = np.array(['s' if testScores[tI] >= threshold else 'b' for tI in range(len(testScores))])\n",
    "\n",
    "print(list(prediction[1:30]))\n",
    "print(list(sSelectorTest[1:30]))\n",
    "\n",
    "ams=AMS(S,B)\n",
    "print(ams)\n",
    "print(TP/(TP+FP))"
   ]
  },
  {
   "cell_type": "code",
   "execution_count": null,
   "metadata": {},
   "outputs": [],
   "source": []
  }
 ],
 "metadata": {
  "kernelspec": {
   "display_name": "Python 3",
   "language": "python",
   "name": "python3"
  },
  "language_info": {
   "codemirror_mode": {
    "name": "ipython",
    "version": 3
   },
   "file_extension": ".py",
   "mimetype": "text/x-python",
   "name": "python",
   "nbconvert_exporter": "python",
   "pygments_lexer": "ipython3",
   "version": "3.6.8"
  }
 },
 "nbformat": 4,
 "nbformat_minor": 2
}
